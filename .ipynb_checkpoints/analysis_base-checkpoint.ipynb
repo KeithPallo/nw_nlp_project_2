{
 "cells": [
  {
   "cell_type": "code",
   "execution_count": 17,
   "metadata": {},
   "outputs": [],
   "source": [
    "# Load in necesarry libs\n",
    "\n",
    "import numpy as np\n",
    "import pandas as pd\n",
    "import matplotlib.pyplot as plt\n",
    "import nltk\n",
    "import json\n",
    "from ingredient_parser import en"
   ]
  },
  {
   "cell_type": "code",
   "execution_count": 3,
   "metadata": {},
   "outputs": [],
   "source": [
    "# Load in ingredients KB\n",
    "\n",
    "with open(\"ingredients_kb.json\", 'r') as infile:\n",
    "    ingredients_kb = json.load(infile)\n"
   ]
  },
  {
   "cell_type": "code",
   "execution_count": 5,
   "metadata": {},
   "outputs": [],
   "source": [
    "# Function to load in recipes for analysis \n",
    "\n",
    "# contains significant amount of info per recipe - needs to be cleaned before working with\n",
    "df_rec = pd.read_json(\"allrecipes-recipes.json\",lines=True)\n",
    "\n",
    "# simple - contains cusinse and recipes\n",
    "df_rec_2 = pd.read_json(\"train.json\")"
   ]
  },
  {
   "cell_type": "code",
   "execution_count": 12,
   "metadata": {},
   "outputs": [],
   "source": [
    "# Uncomment to see column values\n",
    "\n",
    "#print(df_rec.columns)\n",
    "#print(df_rec_2.columns)"
   ]
  },
  {
   "cell_type": "code",
   "execution_count": 8,
   "metadata": {},
   "outputs": [],
   "source": [
    "# Create Dataframes for helathy / unhealthy and veg/non veg ingredients\n",
    "\n",
    "df_veg = df_rec[df_rec['description'].str.contains('vegetarian')]\n",
    "df_non_veg = df_rec[~df_rec['description'].str.contains('vegetarian')]\n",
    "df_health = df_rec[df_rec['description'].str.contains('healthy')]\n",
    "df_unhealthy = df_rec[~df_rec['description'].str.contains('healthy')]"
   ]
  },
  {
   "cell_type": "code",
   "execution_count": 14,
   "metadata": {},
   "outputs": [],
   "source": [
    "# Uncomment to see shapes\n",
    "\n",
    "#print(df_veg.shape,df_non_veg.shape)\n",
    "#print(df_health.shape,df_unhealthy.shape)"
   ]
  },
  {
   "cell_type": "code",
   "execution_count": 29,
   "metadata": {},
   "outputs": [],
   "source": [
    "# Make simple list from unfiltered ingredients\n",
    "\n",
    "def simple_list_full_rec(df,col_string):\n",
    "    ingredients = []\n",
    "    \n",
    "    # iterate through all lists in df\n",
    "    for raw_ings in df[col_string].tolist():\n",
    "        #print(raw_ings)\n",
    "        # iterate through each ingredient description\n",
    "        for raw in raw_ings:\n",
    "            # parse only the name using our parser\n",
    "            raw_dict = en.parse(raw)\n",
    "            #print(raw_dict['name'])\n",
    "            ingredients.append(raw_dict['name'])\n",
    "            \n",
    "    # return the cleaned ingredients \n",
    "    return ingredients"
   ]
  },
  {
   "cell_type": "code",
   "execution_count": 31,
   "metadata": {},
   "outputs": [],
   "source": [
    "veg_ing = simple_list_full_rec(df_veg,'ingredients')"
   ]
  },
  {
   "cell_type": "code",
   "execution_count": null,
   "metadata": {},
   "outputs": [],
   "source": [
    "# Make italian simple list function \n",
    "\n",
    "def simple_list_from_df(df,col_string):\n",
    "    ingredients = []\n",
    "    for i in italian_df[col_string].tolist():\n",
    "        for j in i:\n",
    "            italian += (j.lower().split())\n"
   ]
  },
  {
   "cell_type": "code",
   "execution_count": null,
   "metadata": {},
   "outputs": [],
   "source": [
    "# Function for comparing simple list against KB"
   ]
  },
  {
   "cell_type": "code",
   "execution_count": null,
   "metadata": {},
   "outputs": [],
   "source": [
    "# Function to turn objects into percentages"
   ]
  },
  {
   "cell_type": "code",
   "execution_count": null,
   "metadata": {},
   "outputs": [],
   "source": [
    "# Function for cross examining ingredients for healthy/unhealthy and veg/non veg"
   ]
  }
 ],
 "metadata": {
  "kernelspec": {
   "display_name": "Python 3",
   "language": "python",
   "name": "python3"
  },
  "language_info": {
   "codemirror_mode": {
    "name": "ipython",
    "version": 3
   },
   "file_extension": ".py",
   "mimetype": "text/x-python",
   "name": "python",
   "nbconvert_exporter": "python",
   "pygments_lexer": "ipython3",
   "version": "3.6.8"
  }
 },
 "nbformat": 4,
 "nbformat_minor": 2
}
