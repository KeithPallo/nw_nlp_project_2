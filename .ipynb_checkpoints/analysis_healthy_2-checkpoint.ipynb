{
 "cells": [
  {
   "cell_type": "code",
   "execution_count": 2,
   "metadata": {},
   "outputs": [],
   "source": [
    "# Load in necesarry libs\n",
    "\n",
    "import numpy as np\n",
    "import pandas as pd\n",
    "import matplotlib.pyplot as plt\n",
    "import json\n",
    "import re\n",
    "import string\n",
    "import copy\n",
    "\n",
    "import collections\n",
    "from collections import Counter\n",
    "\n",
    "from ingredient_parser import en\n",
    "\n",
    "from pprint import pprint\n",
    "\n",
    "import nltk\n",
    "from nltk.tokenize import sent_tokenize, word_tokenize\n",
    "from nltk.corpus import stopwords\n",
    "from nltk.util import ngrams\n",
    "\n",
    "from parse_url import *\n",
    "\n"
   ]
  },
  {
   "cell_type": "code",
   "execution_count": 44,
   "metadata": {},
   "outputs": [],
   "source": [
    "# Load in ingredients KB\n",
    "\n",
    "with open(\"ingredients_kb.json\", 'r') as infile:\n",
    "    ingredients_kb = json.load(infile)\n"
   ]
  },
  {
   "cell_type": "code",
   "execution_count": 75,
   "metadata": {},
   "outputs": [],
   "source": [
    "# Function to load in recipes for analysis \n",
    "\n",
    "# contains significant amount of info per recipe - needs to be cleaned before working with\n",
    "df_rec = pd.read_json(\"../allrecipes-recipes.json\",lines=True)\n",
    "\n",
    "# simple - contains cusinse and recipes\n",
    "df_rec_2 = pd.read_json(\"train.json\")"
   ]
  },
  {
   "cell_type": "code",
   "execution_count": 116,
   "metadata": {},
   "outputs": [],
   "source": [
    "# try filtering out pizza\n",
    "df_rec = df_rec[~df_rec['description'].str.contains('pizza')]\n",
    "\n"
   ]
  },
  {
   "cell_type": "code",
   "execution_count": 99,
   "metadata": {
    "scrolled": true
   },
   "outputs": [
    {
     "name": "stdout",
     "output_type": "stream",
     "text": [
      "Index(['author', 'cook_time_minutes', 'description', 'error', 'footnotes',\n",
      "       'ingredients', 'instructions', 'photo_url', 'prep_time_minutes',\n",
      "       'rating_stars', 'review_count', 'time_scraped', 'title',\n",
      "       'total_time_minutes', 'url'],\n",
      "      dtype='object')\n",
      "Index(['cuisine', 'id', 'ingredients'], dtype='object')\n"
     ]
    }
   ],
   "source": [
    "# Uncomment to see column values\n",
    "\n",
    "print(df_rec.columns)\n",
    "print(df_rec_2.columns)"
   ]
  },
  {
   "cell_type": "code",
   "execution_count": 157,
   "metadata": {},
   "outputs": [],
   "source": [
    "# Create Dataframes for helathy / unhealthy and veg/non veg ingredients\n",
    "\n",
    "# df_veg = df_rec[df_rec['description'].str.contains('vegetarian')]\n",
    "# df_non_veg = df_rec[~df_rec['description'].str.contains('vegetarian')]\n",
    "df_health = df_rec[df_rec['description'].str.contains('healthy|low-calorie|low calorie|low-carb|low carb|fat-free|weightloss|weight-loss')]\n",
    "df_unhealthy = df_rec[~df_rec['description'].str.contains('healthy|low-calorie|low calorie|low-carb|low carb|fat-free|weightloss|weight-loss')]\n"
   ]
  },
  {
   "cell_type": "code",
   "execution_count": 158,
   "metadata": {},
   "outputs": [
    {
     "name": "stdout",
     "output_type": "stream",
     "text": [
      "(2124, 15)\n",
      "(88302, 15)\n"
     ]
    }
   ],
   "source": [
    "print(df_health.shape)\n",
    "print(df_unhealthy.shape)"
   ]
  },
  {
   "cell_type": "code",
   "execution_count": 143,
   "metadata": {},
   "outputs": [
    {
     "name": "stdout",
     "output_type": "stream",
     "text": [
      "(791, 15) (89635, 15)\n",
      "(2124, 15) (88302, 15)\n"
     ]
    }
   ],
   "source": [
    "# Uncomment to see shapes\n",
    "\n",
    "print(df_veg.shape,df_non_veg.shape)\n",
    "print(df_health.shape,df_unhealthy.shape)"
   ]
  },
  {
   "cell_type": "code",
   "execution_count": 152,
   "metadata": {},
   "outputs": [],
   "source": [
    "df_unhealthy = df_unhealthy.sample(n=2124)"
   ]
  },
  {
   "cell_type": "code",
   "execution_count": 155,
   "metadata": {},
   "outputs": [],
   "source": [
    "# Make simple list from unfiltered ingredients\n",
    "\n",
    "def simple_list_full_rec(df,col_string):\n",
    "    ingredients = []\n",
    "    \n",
    "    # iterate through all lists in df\n",
    "    for raw_ings in df[col_string].tolist():\n",
    "        # iterate through each ingredient description\n",
    "        for raw in raw_ings:\n",
    "            # parse only the name using our parser\n",
    "            raw_dict = en.parse(raw)\n",
    "            ingredients.append(raw_dict['name'])\n",
    "            \n",
    "    # return the cleaned ingredients \n",
    "    return ingredients"
   ]
  },
  {
   "cell_type": "code",
   "execution_count": 83,
   "metadata": {},
   "outputs": [],
   "source": [
    "veg_ing = simple_list_full_rec(df_veg,'ingredients')\n",
    "non_veg_ing = simple_list_full_rec(df_non_veg,'ingredients')\n",
    "healthy_ing = simple_list_full_rec(df_health,'ingredients')\n",
    "unhealthy_ing = simple_list_full_rec(df_unhealthy,'ingredients')\n"
   ]
  },
  {
   "cell_type": "code",
   "execution_count": 84,
   "metadata": {},
   "outputs": [],
   "source": [
    "# Make italian simple list function \n",
    "\n",
    "def simple_list_from_df(df,col_string):\n",
    "    ingredients = []\n",
    "    for i in italian_df[col_string].tolist():\n",
    "        for j in i:\n",
    "            italian += (j.lower().split())\n"
   ]
  },
  {
   "cell_type": "code",
   "execution_count": 30,
   "metadata": {},
   "outputs": [],
   "source": [
    "# Helper function for KB comparison\n",
    "\n",
    "def clean_text(s):\n",
    "    tokens = word_tokenize(s)\n",
    "    table = str.maketrans('', '', string.punctuation)\n",
    "    stripped = [w.translate(table) for w in tokens]\n",
    "    \n",
    "    # remove remaining tokens that are not alphabetic\n",
    "    words = [word for word in stripped if word.isalpha()]\n",
    "    \n",
    "    # filter out stop words\n",
    "    stop_words = set(stopwords.words('english'))\n",
    "    words = [w for w in words if not w in stop_words]\n",
    "    words = [word for word in stripped if word.isalpha()]\n",
    "    \n",
    "    return words"
   ]
  },
  {
   "cell_type": "code",
   "execution_count": 150,
   "metadata": {},
   "outputs": [],
   "source": [
    "# Function for comparing simple list against KB\n",
    "\n",
    "def comp_to_kb(ing_list,ingredientsKB):\n",
    "    ingredients = {}\n",
    "\n",
    "    for category in ingredientsKB:\n",
    "        counter = Counter()\n",
    "        for ingredient in ing_list:\n",
    "            tokens = clean_text(ingredient)\n",
    "            # try all permuations in tokens\n",
    "            for perm in tokens:\n",
    "                if perm in ingredientsKB[category]:\n",
    "                    counter[perm] += 1\n",
    "        if counter:\n",
    "            ingredients[category] = counter\n",
    "            \n",
    "    return ingredients"
   ]
  },
  {
   "cell_type": "code",
   "execution_count": 163,
   "metadata": {},
   "outputs": [],
   "source": [
    "# test = df_non_veg.sample(n=5)\n",
    "#comp_to_kb(veg_ing,test)"
   ]
  },
  {
   "cell_type": "code",
   "execution_count": 87,
   "metadata": {},
   "outputs": [],
   "source": [
    "veg_ing_clean = comp_to_kb(veg_ing,ingredients_kb) # Currently slow"
   ]
  },
  {
   "cell_type": "code",
   "execution_count": 88,
   "metadata": {},
   "outputs": [],
   "source": [
    "nonveg_ing_clean = comp_to_kb(non_veg_ing,ingredients_kb) # Currently slow"
   ]
  },
  {
   "cell_type": "code",
   "execution_count": 145,
   "metadata": {},
   "outputs": [],
   "source": [
    "health_ing_clean = comp_to_kb(healthy_ing,ingredients_kb) # Currently slow"
   ]
  },
  {
   "cell_type": "code",
   "execution_count": 146,
   "metadata": {},
   "outputs": [],
   "source": [
    "unhealth_ing_clean = comp_to_kb(unhealthy_ing,ingredients_kb) # Currently slow"
   ]
  },
  {
   "cell_type": "code",
   "execution_count": 105,
   "metadata": {},
   "outputs": [],
   "source": [
    "def compare_ingredients(dict_1,dict_2):\n",
    "    \n",
    "    master_counter = []\n",
    "    \n",
    "    # Iterate through all keys in one diciontary\n",
    "    for category in dict_1:\n",
    "        \n",
    "        # Check to see if key exists\n",
    "        if category in dict_2.keys():\n",
    "            \n",
    "            #create a copy of the first counter\n",
    "            cop = copy.deepcopy(dict_1[category])\n",
    "            \n",
    "            # subtract the two counters\n",
    "            cop.subtract(dict_2[category])\n",
    "            \n",
    "            # print(single)\n",
    "            \n",
    "            # take absolute value of all ingredients\n",
    "            #for ingredient in cop.keys():\n",
    "            #    cop[ingredient] = abs(cop[ingredient])\n",
    "                \n",
    "            # add the abs diff counter to the master counter\n",
    "            master_counter.append([category,cop])\n",
    "        \n",
    "        else:\n",
    "            # account for case where entire group is not in the section dictionary\n",
    "            master_counter.append([category,dict_1[category]]) \n",
    "    \n",
    "    return master_counter\n",
    "                        \n",
    "        \n",
    "        \n",
    "            "
   ]
  },
  {
   "cell_type": "code",
   "execution_count": 147,
   "metadata": {},
   "outputs": [],
   "source": [
    "health_diff_1 = compare_ingredients(unhealth_ing_clean,health_ing_clean)\n",
    "health_diff_2 = compare_ingredients(health_ing_clean,unhealth_ing_clean)\n",
    "\n",
    "health_diff_1.sort()\n",
    "health_diff_2.sort()"
   ]
  },
  {
   "cell_type": "code",
   "execution_count": 162,
   "metadata": {},
   "outputs": [],
   "source": [
    "# pprint(health_diff_1)\n",
    "# pprint(health_diff_2)\n",
    "# pprint(nonveg_ing_clean)"
   ]
  },
  {
   "cell_type": "code",
   "execution_count": 1,
   "metadata": {},
   "outputs": [],
   "source": [
    "# Write rules - two sets for healthy / unhealthy\n",
    "\n",
    "file_rules = {'alcohol': ('nothing', []),\n",
    " 'beef': ('replace_then_non', ['low fat turkey']),\n",
    " 'binders': ('nothing', []),\n",
    " 'carb': ('replace_then_lowcarb', ['quinoa']),\n",
    " 'cheeses': ('replace_then_non', []),\n",
    " 'dishes': ('nothing', []),\n",
    " 'drinks': ('nothing', []),\n",
    " 'fats ': ('replace_then_nothing', ['extra virgin olive oil']),\n",
    " 'fruits': ('nothing', []),\n",
    " 'other_protein': ('nothing', []),\n",
    " 'poultry': ('replace_then_nothing', ['wildcaught salmon']),\n",
    " 'sauces': ('replace_then_non', []),\n",
    " 'seasoning': ('nothing', []),\n",
    " 'soups': ('nothing', []),\n",
    " 'sugars': ('replace_then_nothing', ['stevia', 'spartame', 'saccharin']),\n",
    " 'veg_nuts': ('nothing', [])}"
   ]
  },
  {
   "cell_type": "code",
   "execution_count": 198,
   "metadata": {},
   "outputs": [],
   "source": [
    "def ing_swap_funtion(rules_dict = \"file_rules\",kb,ingredients):\n",
    "    \n",
    "    # assumes ingredients are preprocessed going into this function - may need to change this\n",
    "    \n",
    "    final = []\n",
    "    \n",
    "    # pprint(rules_dict.keys())\n",
    "\n",
    "    # Iterate through all potential ingredients\n",
    "    for ingredient in ingredients:\n",
    "        #print(ingredient)\n",
    "        #print(final)\n",
    "        # initialize empty category \n",
    "        category = ''\n",
    "        \n",
    "        # find appropriate cateogory in KB\n",
    "        for key,value in kb.items():\n",
    "            if ingredient in value:\n",
    "                category = key\n",
    "                break\n",
    "                \n",
    "        if category != '':\n",
    "            # structured to allow different data structures for different rules\n",
    "            \n",
    "            # lookup value in rules_dict\n",
    "            \n",
    "            #print(category)\n",
    "            \n",
    "            rule = rules_dict[category]\n",
    "            direction = rule[0]\n",
    "            \n",
    "            # agnostic functions \n",
    "            if direction == \"nothing\":\n",
    "                # do nothing - keep the ingredient \n",
    "                final.append(ingredient)\n",
    "            \n",
    "        \n",
    "            elif direction == \"replace_then_nothing\":\n",
    "                # replace until list is empty - then, do nothing to the ingredient    \n",
    "                \n",
    "                # print(rule)\n",
    "                \n",
    "                if rule[1]:\n",
    "                    val = rules_dict[category][1].pop(0)\n",
    "                    final.append(val)\n",
    "                else:\n",
    "                    final.append(ingredient)\n",
    "                    \n",
    "                    \n",
    "            elif direction == \"replace_then_non\":\n",
    "                # replace until list is empty - then add \"non-fat \" to the ingredient\n",
    "                if rule[1]:\n",
    "                    val = rules_dict[category][1].pop(0)\n",
    "                    final.append(val)\n",
    "                else:\n",
    "                    final.append(\"non-fat \" + ingredient)\n",
    "                    \n",
    "                    \n",
    "                    \n",
    "            elif direction == \"replace_then_lowcarb\":\n",
    "                # replace until list is empty - then add \"low-card \" to the ingredient\n",
    "                if rule[1]:\n",
    "                    val = rules_dict[category][1].pop(0)\n",
    "                    final.append(val)\n",
    "                else:\n",
    "                    final.append(\"low-carb \" + ingredient)\n",
    "                    \n",
    "            else:\n",
    "                print(\"unaccounted for case\")\n",
    "                            \n",
    "        # if not in there, do something ... currently not doing anything (could store values for reference)\n",
    "        else:\n",
    "            # currently doing nothing\n",
    "            final.append(ingredient)\n",
    "    \n",
    "    return final"
   ]
  },
  {
   "cell_type": "code",
   "execution_count": 3,
   "metadata": {},
   "outputs": [],
   "source": [
    "def dir_swap_function(directions,old,new):\n",
    "    pass "
   ]
  },
  {
   "cell_type": "code",
   "execution_count": null,
   "metadata": {},
   "outputs": [],
   "source": [
    "def log_ingredients_change(old,new):\n",
    "    pass"
   ]
  },
  {
   "cell_type": "code",
   "execution_count": 6,
   "metadata": {},
   "outputs": [],
   "source": [
    "# import the KB - specifically for healthy ingredients\n",
    "\n",
    "\n",
    "with open(\"to_health_ingredients_kb.json\", 'r') as infile:\n",
    "    health_kb = json.load(infile)"
   ]
  },
  {
   "cell_type": "code",
   "execution_count": 181,
   "metadata": {},
   "outputs": [],
   "source": [
    "def clean_ingredients(ingredients,kb):\n",
    "    \n",
    "    clean_ingredients = []\n",
    "    \n",
    "    # Because we are just cleaning the ingredients, we can change the KB into a simple set (assuming are disjoint sets)\n",
    "    \n",
    "    # instance simple kb\n",
    "    simple_kb = set()\n",
    "    \n",
    "    # build simple kb\n",
    "    for category in kb.keys():\n",
    "        #print(category)\n",
    "        current = tuple(kb[category])        \n",
    "        simple_kb.update(current)\n",
    "        \n",
    "    \n",
    "    # iterate through all ingredients\n",
    "    for ingredient in ingredients:\n",
    "        \n",
    "        # make list of all possible \n",
    "        all_possible = make_all_possible_ngrams(ingredient)\n",
    "        \n",
    "        # get longest version\n",
    "        longest = find_longest(all_possible,simple_kb)\n",
    "         \n",
    "        # print(longest)\n",
    "\n",
    "        # check to make sure it is not empty - if it is, then use the standard version\n",
    "        if not longest: longest = ingredient\n",
    "        \n",
    "        clean_ingredients.append(longest)\n",
    "        \n",
    "        \n",
    "    \n",
    "    # return all cleaned spring    \n",
    "    clean_ingredients = [x[0] if type(x) == 'list' else x for x in clean_ingredients]\n",
    "\n",
    "    \n",
    "    return clean_ingredients\n",
    "    \n",
    "    \n",
    "    "
   ]
  },
  {
   "cell_type": "code",
   "execution_count": 149,
   "metadata": {},
   "outputs": [],
   "source": [
    "def make_all_possible_ngrams(ingredient):\n",
    "    tokens = clean_text(ingredient)\n",
    "    \n",
    "    all_grams = []\n",
    "    \n",
    "    total_len = len(tokens)\n",
    "    \n",
    "    for index in range(0,total_len+1):\n",
    "        for index_2 in range(index+1,total_len+1):\n",
    "            all_grams.append(\" \".join(tokens[index:index_2]))\n",
    "            \n",
    "    return all_grams\n",
    "    \n",
    "\n"
   ]
  },
  {
   "cell_type": "code",
   "execution_count": 203,
   "metadata": {},
   "outputs": [],
   "source": [
    "def find_longest(ingredient_list,simple_kb):\n",
    "\n",
    "    # only keep ingredients that are in the kb\n",
    "    ingredient_list = [ ing for ing in ingredient_list if ing in simple_kb]   \n",
    "    \n",
    "    if not ingredient_list: return []   # return empty list to avoid further errors\n",
    "    \n",
    "    le = max(len(x.split()) for x in ingredient_list)                  #find out the max number of wors \n",
    "\n",
    "    max_list = [x for x in ingredient_list if len(x.split()) == le]    #now filter list based on that max length\n",
    "    \n",
    "    # If the max_list is not empty, take the first element (current paradigm can change if we like)\n",
    "\n",
    "    if max_list:\n",
    "        max_list = max_list[0] \n",
    "    \n",
    "    #print(max_list)\n",
    "    return max_list\n",
    "\n",
    "    "
   ]
  },
  {
   "cell_type": "code",
   "execution_count": 199,
   "metadata": {
    "scrolled": false
   },
   "outputs": [],
   "source": [
    "cleaned_ingredients = clean_ingredients(ingredients,health_kb)\n",
    "new_ingredients = ing_swap_funtion(rule_dict,health_kb,cleaned_ingredients)"
   ]
  },
  {
   "cell_type": "code",
   "execution_count": 151,
   "metadata": {},
   "outputs": [
    {
     "name": "stdout",
     "output_type": "stream",
     "text": [
      "https://www.allrecipes.com/recipe/228293\n"
     ]
    }
   ],
   "source": [
    "ingredients, directions = main_parse(url1,check=\"single\")\n",
    "ingredients = [ i['name'] for i in ingredients] "
   ]
  },
  {
   "cell_type": "code",
   "execution_count": null,
   "metadata": {},
   "outputs": [],
   "source": [
    "def display_differences()"
   ]
  },
  {
   "cell_type": "code",
   "execution_count": null,
   "metadata": {},
   "outputs": [],
   "source": []
  },
  {
   "cell_type": "code",
   "execution_count": null,
   "metadata": {},
   "outputs": [],
   "source": []
  },
  {
   "cell_type": "code",
   "execution_count": null,
   "metadata": {},
   "outputs": [],
   "source": []
  },
  {
   "cell_type": "code",
   "execution_count": null,
   "metadata": {},
   "outputs": [],
   "source": []
  },
  {
   "cell_type": "code",
   "execution_count": null,
   "metadata": {},
   "outputs": [],
   "source": []
  },
  {
   "cell_type": "code",
   "execution_count": null,
   "metadata": {},
   "outputs": [],
   "source": []
  },
  {
   "cell_type": "code",
   "execution_count": null,
   "metadata": {},
   "outputs": [],
   "source": []
  },
  {
   "cell_type": "code",
   "execution_count": null,
   "metadata": {},
   "outputs": [],
   "source": []
  },
  {
   "cell_type": "code",
   "execution_count": 5,
   "metadata": {},
   "outputs": [],
   "source": [
    "# pprint(health_kb)"
   ]
  },
  {
   "cell_type": "code",
   "execution_count": null,
   "metadata": {},
   "outputs": [],
   "source": [
    "# Group together larger terms together "
   ]
  },
  {
   "cell_type": "code",
   "execution_count": null,
   "metadata": {},
   "outputs": [],
   "source": [
    "# Function to turn objects into percentages - currently not using "
   ]
  },
  {
   "cell_type": "code",
   "execution_count": null,
   "metadata": {},
   "outputs": [],
   "source": [
    "# Function for cross examining ingredients for healthy/unhealthy and veg/non veg"
   ]
  }
 ],
 "metadata": {
  "kernelspec": {
   "display_name": "Python 3",
   "language": "python",
   "name": "python3"
  },
  "language_info": {
   "codemirror_mode": {
    "name": "ipython",
    "version": 3
   },
   "file_extension": ".py",
   "mimetype": "text/x-python",
   "name": "python",
   "nbconvert_exporter": "python",
   "pygments_lexer": "ipython3",
   "version": "3.6.8"
  }
 },
 "nbformat": 4,
 "nbformat_minor": 2
}
